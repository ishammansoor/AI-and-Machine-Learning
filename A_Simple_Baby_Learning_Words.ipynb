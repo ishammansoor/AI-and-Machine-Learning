{
  "nbformat": 4,
  "nbformat_minor": 0,
  "metadata": {
    "colab": {
      "provenance": [],
      "authorship_tag": "ABX9TyPtrPInoeT84kGHXtof75fK",
      "include_colab_link": true
    },
    "kernelspec": {
      "name": "python3",
      "display_name": "Python 3"
    },
    "language_info": {
      "name": "python"
    }
  },
  "cells": [
    {
      "cell_type": "markdown",
      "metadata": {
        "id": "view-in-github",
        "colab_type": "text"
      },
      "source": [
        "<a href=\"https://colab.research.google.com/github/ishammansoor/AI-and-Machine-Learning/blob/main/A_Simple_Baby_Learning_Words.ipynb\" target=\"_parent\"><img src=\"https://colab.research.google.com/assets/colab-badge.svg\" alt=\"Open In Colab\"/></a>"
      ]
    },
    {
      "cell_type": "code",
      "execution_count": 2,
      "metadata": {
        "colab": {
          "base_uri": "https://localhost:8080/",
          "height": 929
        },
        "id": "rBWzz-pWaynB",
        "outputId": "3b66a414-fcfd-4831-d7f8-fc1e0194584b"
      },
      "outputs": [
        {
          "output_type": "stream",
          "name": "stdout",
          "text": [
            "Hi, I'm a baby learning to talk. Please teach me words!\n",
            "Type 'exit' or 'quit' to stop.\n",
            "\n",
            "You: Hi\n",
            "Baby: Goo goo ga ga.\n",
            "You: what is you name\n",
            "Baby: Goo goo ga ga.\n",
            "You: I think that you are so quite\n",
            "Baby: what is you name\n",
            "You: my name is Isham, what is you name\n",
            "Baby: what is Isham, what is you name is Isham, what\n",
            "You: I think that your name is Minha\n",
            "Baby: what is you are so quite\n",
            "You: Thanls\n",
            "Baby: Hi\n",
            "You: Hi\n",
            "Baby: I think that your name is you name is you\n",
            "You: no you silly\n",
            "Baby: my name is you name is you name is you\n",
            "You: Coding is like magic—each line of code creates a new world.\n",
            "Baby: Hi\n",
            "You: The universe is vast and full of mysteries waiting to be explored.\n",
            "Baby: Thanls\n",
            "You: what is you name\n",
            "Baby: Hi\n",
            "You: no \n",
            "Baby: I think that you name is Isham, what is vast\n",
            "You: your crazy\n",
            "Baby: what is you name is you silly\n",
            "You: no it is now \n",
            "Baby: Hi\n",
            "You: hi\n",
            "Baby: no you name is Isham, what is Isham, what is\n",
            "You: Isham is my name not your name\n",
            "Baby: what is you name is now\n"
          ]
        },
        {
          "output_type": "error",
          "ename": "KeyboardInterrupt",
          "evalue": "Interrupted by user",
          "traceback": [
            "\u001b[0;31m---------------------------------------------------------------------------\u001b[0m",
            "\u001b[0;31mKeyboardInterrupt\u001b[0m                         Traceback (most recent call last)",
            "\u001b[0;32m<ipython-input-2-4094be1a9656>\u001b[0m in \u001b[0;36m<cell line: 0>\u001b[0;34m()\u001b[0m\n\u001b[1;32m     80\u001b[0m \u001b[0;34m\u001b[0m\u001b[0m\n\u001b[1;32m     81\u001b[0m \u001b[0;32mif\u001b[0m \u001b[0m__name__\u001b[0m \u001b[0;34m==\u001b[0m \u001b[0;34m\"__main__\"\u001b[0m\u001b[0;34m:\u001b[0m\u001b[0;34m\u001b[0m\u001b[0;34m\u001b[0m\u001b[0m\n\u001b[0;32m---> 82\u001b[0;31m     \u001b[0mmain\u001b[0m\u001b[0;34m(\u001b[0m\u001b[0;34m)\u001b[0m\u001b[0;34m\u001b[0m\u001b[0;34m\u001b[0m\u001b[0m\n\u001b[0m",
            "\u001b[0;32m<ipython-input-2-4094be1a9656>\u001b[0m in \u001b[0;36mmain\u001b[0;34m()\u001b[0m\n\u001b[1;32m     68\u001b[0m \u001b[0;34m\u001b[0m\u001b[0m\n\u001b[1;32m     69\u001b[0m     \u001b[0;32mwhile\u001b[0m \u001b[0;32mTrue\u001b[0m\u001b[0;34m:\u001b[0m\u001b[0;34m\u001b[0m\u001b[0;34m\u001b[0m\u001b[0m\n\u001b[0;32m---> 70\u001b[0;31m         \u001b[0muser_input\u001b[0m \u001b[0;34m=\u001b[0m \u001b[0minput\u001b[0m\u001b[0;34m(\u001b[0m\u001b[0;34m\"You: \"\u001b[0m\u001b[0;34m)\u001b[0m\u001b[0;34m\u001b[0m\u001b[0;34m\u001b[0m\u001b[0m\n\u001b[0m\u001b[1;32m     71\u001b[0m         \u001b[0;32mif\u001b[0m \u001b[0muser_input\u001b[0m\u001b[0;34m.\u001b[0m\u001b[0mlower\u001b[0m\u001b[0;34m(\u001b[0m\u001b[0;34m)\u001b[0m \u001b[0;32min\u001b[0m \u001b[0;34m[\u001b[0m\u001b[0;34m'exit'\u001b[0m\u001b[0;34m,\u001b[0m \u001b[0;34m'quit'\u001b[0m\u001b[0;34m]\u001b[0m\u001b[0;34m:\u001b[0m\u001b[0;34m\u001b[0m\u001b[0;34m\u001b[0m\u001b[0m\n\u001b[1;32m     72\u001b[0m             \u001b[0mprint\u001b[0m\u001b[0;34m(\u001b[0m\u001b[0;34m\"Goodbye!\"\u001b[0m\u001b[0;34m)\u001b[0m\u001b[0;34m\u001b[0m\u001b[0;34m\u001b[0m\u001b[0m\n",
            "\u001b[0;32m/usr/local/lib/python3.11/dist-packages/ipykernel/kernelbase.py\u001b[0m in \u001b[0;36mraw_input\u001b[0;34m(self, prompt)\u001b[0m\n\u001b[1;32m    849\u001b[0m                 \u001b[0;34m\"raw_input was called, but this frontend does not support input requests.\"\u001b[0m\u001b[0;34m\u001b[0m\u001b[0;34m\u001b[0m\u001b[0m\n\u001b[1;32m    850\u001b[0m             )\n\u001b[0;32m--> 851\u001b[0;31m         return self._input_request(str(prompt),\n\u001b[0m\u001b[1;32m    852\u001b[0m             \u001b[0mself\u001b[0m\u001b[0;34m.\u001b[0m\u001b[0m_parent_ident\u001b[0m\u001b[0;34m,\u001b[0m\u001b[0;34m\u001b[0m\u001b[0;34m\u001b[0m\u001b[0m\n\u001b[1;32m    853\u001b[0m             \u001b[0mself\u001b[0m\u001b[0;34m.\u001b[0m\u001b[0m_parent_header\u001b[0m\u001b[0;34m,\u001b[0m\u001b[0;34m\u001b[0m\u001b[0;34m\u001b[0m\u001b[0m\n",
            "\u001b[0;32m/usr/local/lib/python3.11/dist-packages/ipykernel/kernelbase.py\u001b[0m in \u001b[0;36m_input_request\u001b[0;34m(self, prompt, ident, parent, password)\u001b[0m\n\u001b[1;32m    893\u001b[0m             \u001b[0;32mexcept\u001b[0m \u001b[0mKeyboardInterrupt\u001b[0m\u001b[0;34m:\u001b[0m\u001b[0;34m\u001b[0m\u001b[0;34m\u001b[0m\u001b[0m\n\u001b[1;32m    894\u001b[0m                 \u001b[0;31m# re-raise KeyboardInterrupt, to truncate traceback\u001b[0m\u001b[0;34m\u001b[0m\u001b[0;34m\u001b[0m\u001b[0m\n\u001b[0;32m--> 895\u001b[0;31m                 \u001b[0;32mraise\u001b[0m \u001b[0mKeyboardInterrupt\u001b[0m\u001b[0;34m(\u001b[0m\u001b[0;34m\"Interrupted by user\"\u001b[0m\u001b[0;34m)\u001b[0m \u001b[0;32mfrom\u001b[0m \u001b[0;32mNone\u001b[0m\u001b[0;34m\u001b[0m\u001b[0;34m\u001b[0m\u001b[0m\n\u001b[0m\u001b[1;32m    896\u001b[0m             \u001b[0;32mexcept\u001b[0m \u001b[0mException\u001b[0m \u001b[0;32mas\u001b[0m \u001b[0me\u001b[0m\u001b[0;34m:\u001b[0m\u001b[0;34m\u001b[0m\u001b[0;34m\u001b[0m\u001b[0m\n\u001b[1;32m    897\u001b[0m                 \u001b[0mself\u001b[0m\u001b[0;34m.\u001b[0m\u001b[0mlog\u001b[0m\u001b[0;34m.\u001b[0m\u001b[0mwarning\u001b[0m\u001b[0;34m(\u001b[0m\u001b[0;34m\"Invalid Message:\"\u001b[0m\u001b[0;34m,\u001b[0m \u001b[0mexc_info\u001b[0m\u001b[0;34m=\u001b[0m\u001b[0;32mTrue\u001b[0m\u001b[0;34m)\u001b[0m\u001b[0;34m\u001b[0m\u001b[0;34m\u001b[0m\u001b[0m\n",
            "\u001b[0;31mKeyboardInterrupt\u001b[0m: Interrupted by user"
          ]
        }
      ],
      "source": [
        "import random\n",
        "\n",
        "class BabyLearner:\n",
        "    def __init__(self):\n",
        "        # A dictionary for a simple Markov chain: {word: [list of words that followed it]}\n",
        "        self.chain = {}\n",
        "        # A list to store possible starting words (words that began a sentence)\n",
        "        self.start_words = []\n",
        "        # Count how many interactions have happened\n",
        "        self.interaction_count = 0\n",
        "\n",
        "    def learn(self, text):\n",
        "        \"\"\"\n",
        "        Process the input text: split into words, add the first word to the list of\n",
        "        starting words, and update the Markov chain with word pairs.\n",
        "        \"\"\"\n",
        "        # Split the input text into words.\n",
        "        words = text.strip().split()\n",
        "        if not words:\n",
        "            return  # Ignore empty input\n",
        "\n",
        "        # Save the first word of the sentence.\n",
        "        self.start_words.append(words[0])\n",
        "\n",
        "        # Build/update the chain: for each word, record the next word that followed.\n",
        "        for i in range(len(words) - 1):\n",
        "            current_word = words[i]\n",
        "            next_word = words[i + 1]\n",
        "            if current_word not in self.chain:\n",
        "                self.chain[current_word] = []\n",
        "            self.chain[current_word].append(next_word)\n",
        "\n",
        "        # Increment the interaction counter.\n",
        "        self.interaction_count += 1\n",
        "\n",
        "    def generate_response(self, max_length=10):\n",
        "        \"\"\"\n",
        "        Generate a response sentence.\n",
        "        In the first few interactions, the baby simply babbles.\n",
        "        Later, it uses the learned words (via a Markov chain) to form a sentence.\n",
        "        \"\"\"\n",
        "        if self.interaction_count < 3:\n",
        "            # Early stage: just babble.\n",
        "            return \"Goo goo ga ga.\"\n",
        "\n",
        "        # If we have no learned words yet, fall back to generic babbling.\n",
        "        if not self.start_words or not self.chain:\n",
        "            return \"Babble babble...\"\n",
        "\n",
        "        # Choose a random starting word.\n",
        "        word = random.choice(self.start_words)\n",
        "        sentence = [word]\n",
        "\n",
        "        # Generate up to max_length words by following the chain.\n",
        "        for _ in range(max_length - 1):\n",
        "            if word in self.chain and self.chain[word]:\n",
        "                word = random.choice(self.chain[word])\n",
        "                sentence.append(word)\n",
        "            else:\n",
        "                break  # No known follow-up; end the sentence.\n",
        "\n",
        "        return \" \".join(sentence)\n",
        "\n",
        "def main():\n",
        "    learner = BabyLearner()\n",
        "    print(\"Hi, I'm a baby learning to talk. Please teach me words!\")\n",
        "    print(\"Type 'exit' or 'quit' to stop.\\n\")\n",
        "\n",
        "    while True:\n",
        "        user_input = input(\"You: \")\n",
        "        if user_input.lower() in ['exit', 'quit']:\n",
        "            print(\"Goodbye!\")\n",
        "            break\n",
        "\n",
        "        # The baby listens and learns from what you say.\n",
        "        learner.learn(user_input)\n",
        "        # Then it tries to talk back based on its current knowledge.\n",
        "        response = learner.generate_response()\n",
        "        print(\"Baby:\", response)\n",
        "\n",
        "if __name__ == \"__main__\":\n",
        "    main()\n"
      ]
    },
    {
      "cell_type": "code",
      "source": [],
      "metadata": {
        "id": "IxA_0KESbIeu"
      },
      "execution_count": null,
      "outputs": []
    }
  ]
}
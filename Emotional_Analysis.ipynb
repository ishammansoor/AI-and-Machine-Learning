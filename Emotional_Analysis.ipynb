{
  "nbformat": 4,
  "nbformat_minor": 0,
  "metadata": {
    "colab": {
      "provenance": [],
      "gpuType": "T4",
      "authorship_tag": "ABX9TyOwz7IqiCd4H6qxBiKtWoa3",
      "include_colab_link": true
    },
    "kernelspec": {
      "name": "python3",
      "display_name": "Python 3"
    },
    "language_info": {
      "name": "python"
    },
    "accelerator": "GPU"
  },
  "cells": [
    {
      "cell_type": "markdown",
      "metadata": {
        "id": "view-in-github",
        "colab_type": "text"
      },
      "source": [
        "<a href=\"https://colab.research.google.com/github/ishammansoor/AI-and-Machine-Learning/blob/main/Emotional_Analysis.ipynb\" target=\"_parent\"><img src=\"https://colab.research.google.com/assets/colab-badge.svg\" alt=\"Open In Colab\"/></a>"
      ]
    },
    {
      "cell_type": "code",
      "execution_count": 2,
      "metadata": {
        "colab": {
          "base_uri": "https://localhost:8080/",
          "height": 36
        },
        "id": "dDw6KN33R1b3",
        "outputId": "5c697d36-4095-453e-8546-ee08ccfd7afc"
      },
      "outputs": [
        {
          "output_type": "execute_result",
          "data": {
            "text/plain": [
              "'/device:GPU:0'"
            ],
            "application/vnd.google.colaboratory.intrinsic+json": {
              "type": "string"
            }
          },
          "metadata": {},
          "execution_count": 2
        }
      ],
      "source": [
        "import tensorflow as tf\n",
        "from tensorflow import keras\n",
        "from tensorflow.keras import layers\n",
        "import pandas as pd\n",
        "import numpy as np\n",
        "\n",
        "from tensorflow.keras.preprocessing.text import Tokenizer\n",
        "from tensorflow.keras.preprocessing.sequence import pad_sequences\n",
        "from sklearn.model_selection import train_test_split\n",
        "\n",
        "tf.test.gpu_device_name()"
      ]
    },
    {
      "cell_type": "code",
      "source": [
        "df = pd.read_csv(\"/content/text.csv\")"
      ],
      "metadata": {
        "id": "Jy1WOfuhSa_W"
      },
      "execution_count": 3,
      "outputs": []
    },
    {
      "cell_type": "markdown",
      "source": [
        "Spliting into traning and testing sets"
      ],
      "metadata": {
        "id": "zyrmvhNaTK69"
      }
    },
    {
      "cell_type": "code",
      "source": [
        "X=df['text']\n",
        "y=df['label']\n",
        "X_train,X_test,y_train,y_test=train_test_split(X,y,test_size=0.2,random_state=42)"
      ],
      "metadata": {
        "id": "1gtKqlYrTILC"
      },
      "execution_count": 4,
      "outputs": []
    },
    {
      "cell_type": "markdown",
      "source": [
        "Creating tokenizing the words using tensorflow and also padding it"
      ],
      "metadata": {
        "id": "6pc6dQDxnfdQ"
      }
    },
    {
      "cell_type": "code",
      "source": [
        "tokenizer = Tokenizer(num_words = 393822, oov_token='')\n",
        "tokenizer.fit_on_texts(X_train)\n",
        "tokenizer.fit_on_texts(X_test)\n",
        "X_train_sequences = tokenizer.texts_to_sequences(X_train)\n",
        "X_test_sequences = tokenizer.texts_to_sequences(X_test)"
      ],
      "metadata": {
        "id": "a3bh3DYkVycQ"
      },
      "execution_count": 5,
      "outputs": []
    },
    {
      "cell_type": "code",
      "source": [
        "maxlen = max(len(tokens) for tokens in X_train_sequences)\n",
        "print(\"Maximum sequence length (maxlen):\", maxlen)\n",
        "X_train_padded = pad_sequences(X_train_sequences, maxlen=maxlen, padding='post')\n",
        "X_test_padded = pad_sequences(X_test_sequences, maxlen=maxlen, padding='post')\n",
        "\n",
        "input_size = np.max(X_train_padded) + 1\n",
        "input_size"
      ],
      "metadata": {
        "colab": {
          "base_uri": "https://localhost:8080/"
        },
        "id": "NHbgKIDIGkRq",
        "outputId": "0e8087e6-34ea-42f9-8049-bc7a62bf555f"
      },
      "execution_count": 6,
      "outputs": [
        {
          "output_type": "stream",
          "name": "stdout",
          "text": [
            "Maximum sequence length (maxlen): 178\n"
          ]
        },
        {
          "output_type": "execute_result",
          "data": {
            "text/plain": [
              "68487"
            ]
          },
          "metadata": {},
          "execution_count": 6
        }
      ]
    },
    {
      "cell_type": "code",
      "source": [
        "model = keras.Sequential([\n",
        "   layers.Embedding(input_dim=input_size, output_dim=100,input_shape=(178,)),\n",
        "   layers.Bidirectional(layers.LSTM(128)),\n",
        "   layers.BatchNormalization(),\n",
        "   layers.Dropout(rate=0.5),\n",
        "   layers.Dense(64, activation=\"relu\"),\n",
        "   layers.Dropout(rate=0.5),\n",
        "   layers.Dense(64, activation=\"relu\"),\n",
        "   layers.Dropout(rate=0.5),\n",
        "   layers.Dense(64, activation=\"relu\"),\n",
        "   layers.Dropout(rate=0.5),\n",
        "   layers.Dense(6, activation=\"softmax\"),\n",
        "])\n",
        "\n",
        "model.compile(\n",
        "    optimizer=\"adam\",\n",
        "    loss=\"sparse_categorical_crossentropy\",\n",
        "    metrics=[\"accuracy\"]\n",
        ")"
      ],
      "metadata": {
        "id": "rA9wxHwcWClg"
      },
      "execution_count": 11,
      "outputs": []
    },
    {
      "cell_type": "code",
      "source": [
        "predictions = model.fit(\n",
        "    X_train_padded,\n",
        "    y_train,\n",
        "    epochs=3,\n",
        "    batch_size=32,\n",
        "    validation_data=(X_test_padded, y_test),\n",
        "    callbacks=[keras.callbacks.EarlyStopping(patience=3)]\n",
        ")\n"
      ],
      "metadata": {
        "colab": {
          "base_uri": "https://localhost:8080/"
        },
        "id": "AUGaLYU0YbUI",
        "outputId": "de9807fe-52a2-4d58-c3c5-737b8538aa26"
      },
      "execution_count": 10,
      "outputs": [
        {
          "output_type": "stream",
          "name": "stdout",
          "text": [
            "Epoch 1/3\n",
            "10421/10421 [==============================] - 224s 21ms/step - loss: 0.2509 - accuracy: 0.9003 - val_loss: 0.1014 - val_accuracy: 0.9368\n",
            "Epoch 2/3\n",
            "10421/10421 [==============================] - 203s 19ms/step - loss: 0.1082 - accuracy: 0.9377 - val_loss: 0.0939 - val_accuracy: 0.9389\n",
            "Epoch 3/3\n",
            "10421/10421 [==============================] - 194s 19ms/step - loss: 0.1000 - accuracy: 0.9390 - val_loss: 0.0944 - val_accuracy: 0.9395\n"
          ]
        }
      ]
    }
  ]
}
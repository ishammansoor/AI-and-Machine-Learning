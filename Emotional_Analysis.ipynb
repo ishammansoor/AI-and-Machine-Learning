{
  "nbformat": 4,
  "nbformat_minor": 0,
  "metadata": {
    "colab": {
      "provenance": [],
      "gpuType": "T4",
      "authorship_tag": "ABX9TyMByxLoQTcLyMUEtesLNcJg",
      "include_colab_link": true
    },
    "kernelspec": {
      "name": "python3",
      "display_name": "Python 3"
    },
    "language_info": {
      "name": "python"
    },
    "accelerator": "GPU"
  },
  "cells": [
    {
      "cell_type": "markdown",
      "metadata": {
        "id": "view-in-github",
        "colab_type": "text"
      },
      "source": [
        "<a href=\"https://colab.research.google.com/github/ishammansoor/AI-and-Machine-Learning/blob/main/Emotional_Analysis.ipynb\" target=\"_parent\"><img src=\"https://colab.research.google.com/assets/colab-badge.svg\" alt=\"Open In Colab\"/></a>"
      ]
    },
    {
      "cell_type": "code",
      "execution_count": 1,
      "metadata": {
        "colab": {
          "base_uri": "https://localhost:8080/",
          "height": 36
        },
        "id": "dDw6KN33R1b3",
        "outputId": "6bcf2271-234f-4eda-ac85-e8761f8511e4"
      },
      "outputs": [
        {
          "output_type": "execute_result",
          "data": {
            "text/plain": [
              "'/device:GPU:0'"
            ],
            "application/vnd.google.colaboratory.intrinsic+json": {
              "type": "string"
            }
          },
          "metadata": {},
          "execution_count": 1
        }
      ],
      "source": [
        "import tensorflow as tf\n",
        "from tensorflow import keras\n",
        "from tensorflow.keras import layers\n",
        "import pandas as pd\n",
        "import numpy as np\n",
        "\n",
        "from tensorflow.keras.preprocessing.text import Tokenizer\n",
        "from tensorflow.keras.preprocessing.sequence import pad_sequences\n",
        "from sklearn.model_selection import train_test_split\n",
        "\n",
        "tf.test.gpu_device_name()"
      ]
    },
    {
      "cell_type": "code",
      "source": [
        "df = pd.read_csv(\"/content/text.csv\")"
      ],
      "metadata": {
        "id": "Jy1WOfuhSa_W"
      },
      "execution_count": 3,
      "outputs": []
    },
    {
      "cell_type": "markdown",
      "source": [
        "Spliting into traning and testing sets"
      ],
      "metadata": {
        "id": "zyrmvhNaTK69"
      }
    },
    {
      "cell_type": "code",
      "source": [
        "X=df['text']\n",
        "y=df['label']\n",
        "X_train,X_test,y_train,y_test=train_test_split(X,y,test_size=0.2,random_state=42)"
      ],
      "metadata": {
        "id": "1gtKqlYrTILC"
      },
      "execution_count": 4,
      "outputs": []
    },
    {
      "cell_type": "markdown",
      "source": [
        "Creating tokenizing the words using tensorflow and also padding it"
      ],
      "metadata": {
        "id": "6pc6dQDxnfdQ"
      }
    },
    {
      "cell_type": "code",
      "source": [
        "tokenizer = Tokenizer(num_words = 393822, oov_token='')\n",
        "tokenizer.fit_on_texts(X_train)\n",
        "tokenizer.fit_on_texts(X_test)\n",
        "\n",
        "train_sequences = tokenizer.texts_to_sequences(X_train)\n",
        "maxlen = max(len(tokens) for tokens in train_sequences)\n",
        "test_sequences = tokenizer.texts_to_sequences(X_test)\n",
        "\n",
        "print(\"Maximum sequence length (maxlen):\", maxlen)\n",
        "\n",
        "padded_training = pad_sequences(train_sequences, maxlen=maxlen, padding='post', truncating='post')\n",
        "padded_testing = pad_sequences(test_sequences, maxlen=maxlen, padding='post', truncating='post')"
      ],
      "metadata": {
        "colab": {
          "base_uri": "https://localhost:8080/"
        },
        "id": "a3bh3DYkVycQ",
        "outputId": "700ee5b3-aa48-4b16-82a7-0f0da43a1ec7"
      },
      "execution_count": 6,
      "outputs": [
        {
          "output_type": "stream",
          "name": "stdout",
          "text": [
            "Maximum sequence length (maxlen): 178\n"
          ]
        }
      ]
    },
    {
      "cell_type": "code",
      "source": [
        "model = keras.Sequential([\n",
        "   layers.Embedding()\n",
        "])\n",
        "\n",
        "model.compile(\n",
        "    optimizer=\"adam\",\n",
        "    loss=\"sparse_categorical_crossentropy\",\n",
        "    metrics=[\"accuracy\"]\n",
        ")"
      ],
      "metadata": {
        "id": "rA9wxHwcWClg"
      },
      "execution_count": 26,
      "outputs": []
    },
    {
      "cell_type": "code",
      "source": [
        "predictions = model.fit(\n",
        ")\n"
      ],
      "metadata": {
        "colab": {
          "base_uri": "https://localhost:8080/"
        },
        "id": "AUGaLYU0YbUI",
        "outputId": "e91b6d75-25f2-47bc-9995-f4a3ad0df2ca"
      },
      "execution_count": 27,
      "outputs": [
        {
          "output_type": "stream",
          "name": "stdout",
          "text": [
            "Epoch 1/3\n",
            "2206/2206 [==============================] - 70s 29ms/step - loss: 0.4741 - accuracy: 0.8315 - val_loss: nan - val_accuracy: 0.9173\n",
            "Epoch 2/3\n",
            "2206/2206 [==============================] - 35s 16ms/step - loss: 0.1564 - accuracy: 0.9315 - val_loss: nan - val_accuracy: 0.9087\n",
            "Epoch 3/3\n",
            "2206/2206 [==============================] - 34s 15ms/step - loss: 0.1148 - accuracy: 0.9423 - val_loss: nan - val_accuracy: 0.9275\n"
          ]
        }
      ]
    }
  ]
}
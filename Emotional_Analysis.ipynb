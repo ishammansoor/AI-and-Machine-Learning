{
  "nbformat": 4,
  "nbformat_minor": 0,
  "metadata": {
    "colab": {
      "provenance": [],
      "authorship_tag": "ABX9TyMNDrsQotspAJoymrW5z0vm",
      "include_colab_link": true
    },
    "kernelspec": {
      "name": "python3",
      "display_name": "Python 3"
    },
    "language_info": {
      "name": "python"
    }
  },
  "cells": [
    {
      "cell_type": "markdown",
      "metadata": {
        "id": "view-in-github",
        "colab_type": "text"
      },
      "source": [
        "<a href=\"https://colab.research.google.com/github/ishammansoor/AI-and-Machine-Learning/blob/main/Emotional_Analysis.ipynb\" target=\"_parent\"><img src=\"https://colab.research.google.com/assets/colab-badge.svg\" alt=\"Open In Colab\"/></a>"
      ]
    },
    {
      "cell_type": "code",
      "execution_count": 2,
      "metadata": {
        "colab": {
          "base_uri": "https://localhost:8080/",
          "height": 36
        },
        "id": "dDw6KN33R1b3",
        "outputId": "f2a1363f-8b21-4f35-e2dc-354cbc483de4"
      },
      "outputs": [
        {
          "output_type": "execute_result",
          "data": {
            "text/plain": [
              "''"
            ],
            "application/vnd.google.colaboratory.intrinsic+json": {
              "type": "string"
            }
          },
          "metadata": {},
          "execution_count": 2
        }
      ],
      "source": [
        "import tensorflow as tf\n",
        "from tensorflow import keras\n",
        "from tensorflow.keras import layers\n",
        "import pandas as pd\n",
        "import numpy as np\n",
        "\n",
        "from tensorflow.keras.preprocessing.text import Tokenizer\n",
        "from tensorflow.keras.preprocessing.sequence import pad_sequences\n",
        "\n",
        "tf.test.gpu_device_name()"
      ]
    },
    {
      "cell_type": "code",
      "source": [
        "dataset = pd.read_csv(\"/content/text.csv\")"
      ],
      "metadata": {
        "id": "Jy1WOfuhSa_W"
      },
      "execution_count": 19,
      "outputs": []
    },
    {
      "cell_type": "markdown",
      "source": [
        "Spliting into traning and testing sets"
      ],
      "metadata": {
        "id": "zyrmvhNaTK69"
      }
    },
    {
      "cell_type": "code",
      "source": [
        "sentences = dataset['text']\n",
        "labels = dataset['label']\n",
        "\n",
        "training_sentences = sentences[0:int(len(sentences) / 2)]\n",
        "testing_sentences = sentences[int(len(sentences) / 2):0]\n",
        "\n",
        "\n",
        "training_labels = labels[0:int(len(labels) / 2)]\n",
        "testing_labels = labels[int(len(labels) / 2):]"
      ],
      "metadata": {
        "id": "1gtKqlYrTILC"
      },
      "execution_count": 9,
      "outputs": []
    },
    {
      "cell_type": "code",
      "source": [
        "tokenizer = Tokenizer(num_words = 393822, oov_token='')\n",
        "\n",
        "tokenizer.fit_on_texts(training_sentences)\n",
        "word_index = tokenizer.word_index\n",
        "\n",
        "\n",
        "training_sequences = tokenizer.texts_to_sequences(training_sentences)\n",
        "training_padded = pad_sequences(training_sequences, maxlen=100, padding='post', truncating='post')\n",
        "\n",
        "testing_sequences = tokenizer.texts_to_sequences(testing_sentences)\n",
        "testing_padded = pad_sequences(testing_sequences, maxlen=100, padding='post', truncating='post')"
      ],
      "metadata": {
        "id": "4DY6YsCbU8Yi"
      },
      "execution_count": 18,
      "outputs": []
    },
    {
      "cell_type": "code",
      "source": [
        "training_padded = np.array(training_padded)\n",
        "training_labels = np.array(training_labels)\n",
        "testing_padded = np.array(testing_padded)\n",
        "testing_labels = np.array(testing_labels)"
      ],
      "metadata": {
        "id": "a3bh3DYkVycQ"
      },
      "execution_count": 20,
      "outputs": []
    },
    {
      "cell_type": "code",
      "source": [
        "model = keras.Sequential([\n",
        "    layers.Embedding(393822, 16, input_length=100),\n",
        "    layers.Dropout(0.3),\n",
        "    layers.GlobalAveragePooling1D(),\n",
        "    layers.Dense(356, activation='relu'),\n",
        "    layers.Dropout(0.3),\n",
        "    layers.Dense(1)\n",
        "])\n",
        "\n",
        "model.compile(\n",
        "    optimizer=\"adam\",\n",
        "    loss=\"binary_crossentropy\",\n",
        "    metrics=[\"binary_accuracy\"]\n",
        ")"
      ],
      "metadata": {
        "id": "rA9wxHwcWClg"
      },
      "execution_count": 35,
      "outputs": []
    },
    {
      "cell_type": "code",
      "source": [
        "predictions = model.fit(\n",
        "    training_padded,\n",
        "    training_labels,\n",
        "    epochs=30,\n",
        "    validation_data=(testing_padded, testing_labels),\n",
        ")\n"
      ],
      "metadata": {
        "colab": {
          "base_uri": "https://localhost:8080/"
        },
        "id": "AUGaLYU0YbUI",
        "outputId": "5a35f07b-010d-4e8c-c8a7-569f5d3c6ed6"
      },
      "execution_count": null,
      "outputs": [
        {
          "output_type": "stream",
          "name": "stdout",
          "text": [
            "Epoch 1/30\n"
          ]
        }
      ]
    }
  ]
}
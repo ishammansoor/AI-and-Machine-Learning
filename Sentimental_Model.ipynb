{
  "nbformat": 4,
  "nbformat_minor": 0,
  "metadata": {
    "colab": {
      "provenance": [],
      "authorship_tag": "ABX9TyNCVpBLFj7JMgmUg0xET7NE",
      "include_colab_link": true
    },
    "kernelspec": {
      "name": "python3",
      "display_name": "Python 3"
    },
    "language_info": {
      "name": "python"
    }
  },
  "cells": [
    {
      "cell_type": "markdown",
      "metadata": {
        "id": "view-in-github",
        "colab_type": "text"
      },
      "source": [
        "<a href=\"https://colab.research.google.com/github/ishammansoor/AI-and-Machine-Learning/blob/main/Sentimental_Model.ipynb\" target=\"_parent\"><img src=\"https://colab.research.google.com/assets/colab-badge.svg\" alt=\"Open In Colab\"/></a>"
      ]
    },
    {
      "cell_type": "code",
      "execution_count": 2,
      "metadata": {
        "id": "Bq5fyncByfJu"
      },
      "outputs": [],
      "source": [
        "import json\n",
        "import tensorflow as tf\n",
        "\n",
        "from tensorflow import keras\n",
        "from tensorflow.keras.preprocessing.text import Tokenizer\n",
        "from tensorflow.keras.preprocessing.sequence import pad_sequences"
      ]
    },
    {
      "cell_type": "code",
      "source": [
        "vocab_size = 10000\n",
        "embedding_dim = 16\n",
        "max_length = 100\n",
        "trunc_type='post'\n",
        "padding_type='post'\n",
        "oov_tok = \"<OOV>\"\n",
        "training_size = 20000"
      ],
      "metadata": {
        "id": "CawSQy-9f4AE"
      },
      "execution_count": 1,
      "outputs": []
    },
    {
      "cell_type": "markdown",
      "source": [
        "Read in data from file"
      ],
      "metadata": {
        "id": "XLQHva3N6KpU"
      }
    },
    {
      "cell_type": "code",
      "source": [
        "with open(\"sarcasm.json\", 'r') as f:\n",
        "  datastore = json.load(f);\n",
        "\n",
        "sentences = []\n",
        "labels = []\n",
        "urls = []\n",
        "\n",
        "for item in datastore:\n",
        "  sentences.append(item['headline'])\n",
        "  labels.append(item['is_sarcastic'])\n",
        "  urls.append(item['article_link'])"
      ],
      "metadata": {
        "id": "TJH_VBL15TZY"
      },
      "execution_count": 12,
      "outputs": []
    },
    {
      "cell_type": "markdown",
      "source": [
        "Spliting into training and testing [link text](https://)"
      ],
      "metadata": {
        "id": "5sufVBLAF2Pl"
      }
    },
    {
      "cell_type": "code",
      "source": [
        "\n",
        "training_sentences = sentences[0:training_size]\n",
        "testing_sentences = sentences[training_size:]\n",
        "\n",
        "\n",
        "training_labels = labels[0:training_size]\n",
        "testing_labels = labels[training_size:]"
      ],
      "metadata": {
        "id": "CyDFHbWLgtes"
      },
      "execution_count": 13,
      "outputs": []
    },
    {
      "cell_type": "markdown",
      "source": [
        "Tokenize the data and create training and testing sequences"
      ],
      "metadata": {
        "id": "AbV0E4bizTVX"
      }
    },
    {
      "cell_type": "code",
      "source": [
        "tokenizer = Tokenizer(num_words = vocab_size, oov_token='<OOV>')\n",
        "tokenizer.fit_on_texts(training_sentences)\n",
        "word_index = tokenizer.word_index\n",
        "\n",
        "training_sequences = tokenizer.texts_to_sequences(training_sentences)\n",
        "training_padded = pad_sequences(training_sequences, maxlen=max_length, padding=padding_type, truncating=trunc_type)\n",
        "\n",
        "testing_sequences = tokenizer.texts_to_sequences(testing_sentences)\n",
        "testing_padded = pad_sequences(testing_sequences, maxlen=max_length, padding=padding_type, truncating=trunc_type)\n"
      ],
      "metadata": {
        "id": "2UqqWulQ6PMH"
      },
      "execution_count": 18,
      "outputs": []
    },
    {
      "cell_type": "code",
      "source": [
        "import numpy as np\n",
        "training_padded = np.array(training_padded)\n",
        "training_labels = np.array(training_labels)\n",
        "testing_padded = np.array(testing_padded)\n",
        "testing_labels = np.array(testing_labels)"
      ],
      "metadata": {
        "id": "ErggS6OnkxuT"
      },
      "execution_count": 25,
      "outputs": []
    },
    {
      "cell_type": "code",
      "source": [
        "model = tf.keras.Sequential([\n",
        "    tf.keras.layers.Embedding(vocab_size, embedding_dim, input_length=max_length),\n",
        "    tf.keras.layers.GlobalAveragePooling1D(),\n",
        "    tf.keras.layers.Dense(24, activation='relu'),\n",
        "    tf.keras.layers.Dense(1, activation='sigmoid')\n",
        "])\n",
        "\n",
        "model.compile(loss='binary_crossentropy', optimizer='adam', metrics=['accuracy'])\n",
        "model.summary()\n"
      ],
      "metadata": {
        "colab": {
          "base_uri": "https://localhost:8080/"
        },
        "id": "8BLwxmsIF4wq",
        "outputId": "f4daa48d-ab21-43c2-9dce-7e4fc4757805"
      },
      "execution_count": 23,
      "outputs": [
        {
          "output_type": "stream",
          "name": "stdout",
          "text": [
            "Model: \"sequential_1\"\n",
            "_________________________________________________________________\n",
            " Layer (type)                Output Shape              Param #   \n",
            "=================================================================\n",
            " embedding_1 (Embedding)     (None, 100, 16)           160000    \n",
            "                                                                 \n",
            " global_average_pooling1d_1  (None, 16)                0         \n",
            "  (GlobalAveragePooling1D)                                       \n",
            "                                                                 \n",
            " dense_2 (Dense)             (None, 24)                408       \n",
            "                                                                 \n",
            " dense_3 (Dense)             (None, 1)                 25        \n",
            "                                                                 \n",
            "=================================================================\n",
            "Total params: 160433 (626.69 KB)\n",
            "Trainable params: 160433 (626.69 KB)\n",
            "Non-trainable params: 0 (0.00 Byte)\n",
            "_________________________________________________________________\n"
          ]
        }
      ]
    },
    {
      "cell_type": "code",
      "source": [
        "num_epochs = 30\n",
        "history = model.fit(training_padded, training_labels, epochs=num_epochs, validation_data=(testing_padded, testing_labels), verbose=2)"
      ],
      "metadata": {
        "colab": {
          "base_uri": "https://localhost:8080/"
        },
        "id": "b-mtbtvjj9qJ",
        "outputId": "079acf4d-7c90-4944-83cd-121906d80812"
      },
      "execution_count": 26,
      "outputs": [
        {
          "output_type": "stream",
          "name": "stdout",
          "text": [
            "Epoch 1/30\n",
            "625/625 - 2s - loss: 0.6747 - accuracy: 0.5725 - val_loss: 0.6183 - val_accuracy: 0.7714 - 2s/epoch - 3ms/step\n",
            "Epoch 2/30\n",
            "625/625 - 1s - loss: 0.4564 - accuracy: 0.8243 - val_loss: 0.4033 - val_accuracy: 0.8255 - 1s/epoch - 2ms/step\n",
            "Epoch 3/30\n",
            "625/625 - 1s - loss: 0.3227 - accuracy: 0.8711 - val_loss: 0.3549 - val_accuracy: 0.8517 - 1s/epoch - 2ms/step\n",
            "Epoch 4/30\n",
            "625/625 - 1s - loss: 0.2693 - accuracy: 0.8953 - val_loss: 0.3423 - val_accuracy: 0.8566 - 1s/epoch - 2ms/step\n",
            "Epoch 5/30\n",
            "625/625 - 1s - loss: 0.2338 - accuracy: 0.9092 - val_loss: 0.3426 - val_accuracy: 0.8588 - 1s/epoch - 2ms/step\n",
            "Epoch 6/30\n",
            "625/625 - 1s - loss: 0.2066 - accuracy: 0.9210 - val_loss: 0.3522 - val_accuracy: 0.8542 - 1s/epoch - 2ms/step\n",
            "Epoch 7/30\n",
            "625/625 - 2s - loss: 0.1840 - accuracy: 0.9312 - val_loss: 0.3619 - val_accuracy: 0.8512 - 2s/epoch - 2ms/step\n",
            "Epoch 8/30\n",
            "625/625 - 1s - loss: 0.1666 - accuracy: 0.9366 - val_loss: 0.3817 - val_accuracy: 0.8448 - 1s/epoch - 2ms/step\n",
            "Epoch 9/30\n",
            "625/625 - 1s - loss: 0.1488 - accuracy: 0.9462 - val_loss: 0.3960 - val_accuracy: 0.8420 - 1s/epoch - 2ms/step\n",
            "Epoch 10/30\n",
            "625/625 - 2s - loss: 0.1362 - accuracy: 0.9520 - val_loss: 0.3967 - val_accuracy: 0.8538 - 2s/epoch - 2ms/step\n",
            "Epoch 11/30\n",
            "625/625 - 1s - loss: 0.1233 - accuracy: 0.9578 - val_loss: 0.4191 - val_accuracy: 0.8486 - 1s/epoch - 2ms/step\n",
            "Epoch 12/30\n",
            "625/625 - 1s - loss: 0.1129 - accuracy: 0.9615 - val_loss: 0.4375 - val_accuracy: 0.8495 - 1s/epoch - 2ms/step\n",
            "Epoch 13/30\n",
            "625/625 - 1s - loss: 0.1031 - accuracy: 0.9651 - val_loss: 0.4695 - val_accuracy: 0.8392 - 1s/epoch - 2ms/step\n",
            "Epoch 14/30\n",
            "625/625 - 2s - loss: 0.0950 - accuracy: 0.9685 - val_loss: 0.4818 - val_accuracy: 0.8459 - 2s/epoch - 3ms/step\n",
            "Epoch 15/30\n",
            "625/625 - 1s - loss: 0.0878 - accuracy: 0.9707 - val_loss: 0.5071 - val_accuracy: 0.8427 - 1s/epoch - 2ms/step\n",
            "Epoch 16/30\n",
            "625/625 - 1s - loss: 0.0785 - accuracy: 0.9744 - val_loss: 0.5356 - val_accuracy: 0.8398 - 1s/epoch - 2ms/step\n",
            "Epoch 17/30\n",
            "625/625 - 1s - loss: 0.0741 - accuracy: 0.9766 - val_loss: 0.5649 - val_accuracy: 0.8383 - 1s/epoch - 2ms/step\n",
            "Epoch 18/30\n",
            "625/625 - 1s - loss: 0.0679 - accuracy: 0.9788 - val_loss: 0.5894 - val_accuracy: 0.8357 - 1s/epoch - 2ms/step\n",
            "Epoch 19/30\n",
            "625/625 - 1s - loss: 0.0650 - accuracy: 0.9790 - val_loss: 0.6181 - val_accuracy: 0.8362 - 1s/epoch - 2ms/step\n",
            "Epoch 20/30\n",
            "625/625 - 1s - loss: 0.0584 - accuracy: 0.9822 - val_loss: 0.6452 - val_accuracy: 0.8343 - 1s/epoch - 2ms/step\n",
            "Epoch 21/30\n",
            "625/625 - 1s - loss: 0.0545 - accuracy: 0.9829 - val_loss: 0.6804 - val_accuracy: 0.8304 - 1s/epoch - 2ms/step\n",
            "Epoch 22/30\n",
            "625/625 - 2s - loss: 0.0496 - accuracy: 0.9856 - val_loss: 0.7064 - val_accuracy: 0.8284 - 2s/epoch - 3ms/step\n",
            "Epoch 23/30\n",
            "625/625 - 2s - loss: 0.0471 - accuracy: 0.9859 - val_loss: 0.7404 - val_accuracy: 0.8271 - 2s/epoch - 3ms/step\n",
            "Epoch 24/30\n",
            "625/625 - 1s - loss: 0.0428 - accuracy: 0.9877 - val_loss: 0.8047 - val_accuracy: 0.8205 - 1s/epoch - 2ms/step\n",
            "Epoch 25/30\n",
            "625/625 - 1s - loss: 0.0394 - accuracy: 0.9884 - val_loss: 0.8030 - val_accuracy: 0.8213 - 1s/epoch - 2ms/step\n",
            "Epoch 26/30\n",
            "625/625 - 1s - loss: 0.0374 - accuracy: 0.9896 - val_loss: 0.8343 - val_accuracy: 0.8225 - 1s/epoch - 2ms/step\n",
            "Epoch 27/30\n",
            "625/625 - 1s - loss: 0.0343 - accuracy: 0.9899 - val_loss: 0.8781 - val_accuracy: 0.8193 - 1s/epoch - 2ms/step\n",
            "Epoch 28/30\n",
            "625/625 - 1s - loss: 0.0314 - accuracy: 0.9908 - val_loss: 0.9019 - val_accuracy: 0.8176 - 1s/epoch - 2ms/step\n",
            "Epoch 29/30\n",
            "625/625 - 1s - loss: 0.0297 - accuracy: 0.9922 - val_loss: 0.9468 - val_accuracy: 0.8156 - 1s/epoch - 2ms/step\n",
            "Epoch 30/30\n",
            "625/625 - 1s - loss: 0.0280 - accuracy: 0.9919 - val_loss: 0.9737 - val_accuracy: 0.8153 - 1s/epoch - 2ms/step\n"
          ]
        }
      ]
    },
    {
      "cell_type": "code",
      "source": [
        "sentence = [\n",
        "    \"granny starting to fear spiders in the garden might be real\",\n",
        "    \"the weather today is bright and sunny\"\n",
        "]\n",
        "\n",
        "sequences = tokenizer.texts_to_sequences(sentence)\n",
        "\n",
        "padded = pad_sequences(sequences, maxlen=max_length, padding=padding_type, truncating=trunc_type)\n",
        "\n",
        "print(model.predict(padded))"
      ],
      "metadata": {
        "colab": {
          "base_uri": "https://localhost:8080/"
        },
        "id": "bbbx-iHylDd1",
        "outputId": "7792882e-6b35-4be0-d212-db2ef752bd02"
      },
      "execution_count": 30,
      "outputs": [
        {
          "output_type": "stream",
          "name": "stdout",
          "text": [
            "1/1 [==============================] - 0s 23ms/step\n",
            "[[9.7767037e-01]\n",
            " [1.3948158e-04]]\n"
          ]
        }
      ]
    }
  ]
}
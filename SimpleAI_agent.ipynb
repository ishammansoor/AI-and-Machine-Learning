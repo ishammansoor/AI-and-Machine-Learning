{
  "nbformat": 4,
  "nbformat_minor": 0,
  "metadata": {
    "colab": {
      "provenance": [],
      "authorship_tag": "ABX9TyMZUqKVWvmOHaPMRSQplBL8",
      "include_colab_link": true
    },
    "kernelspec": {
      "name": "python3",
      "display_name": "Python 3"
    },
    "language_info": {
      "name": "python"
    }
  },
  "cells": [
    {
      "cell_type": "markdown",
      "metadata": {
        "id": "view-in-github",
        "colab_type": "text"
      },
      "source": [
        "<a href=\"https://colab.research.google.com/github/ishammansoor/AI-and-Machine-Learning/blob/main/SimpleAI_agent.ipynb\" target=\"_parent\"><img src=\"https://colab.research.google.com/assets/colab-badge.svg\" alt=\"Open In Colab\"/></a>"
      ]
    },
    {
      "cell_type": "code",
      "execution_count": 1,
      "metadata": {
        "colab": {
          "base_uri": "https://localhost:8080/"
        },
        "id": "N4cvNwc7QTax",
        "outputId": "05be6477-7d2b-4bc0-a279-ddb17adecc90"
      },
      "outputs": [
        {
          "output_type": "stream",
          "name": "stdout",
          "text": [
            "Agent moved left. New position: -1\n",
            "Agent moved right. New position: 0\n",
            "Agent stayed. Position: 0\n"
          ]
        }
      ],
      "source": [
        "class SimpleAIAgent:\n",
        "    def __init__(self):\n",
        "        # Initialize the agent's state or memory if needed\n",
        "        self.position = 0\n",
        "\n",
        "    def perceive(self, environment):\n",
        "        # The agent perceives the environment\n",
        "        # For simplicity, let's assume the environment is a dictionary\n",
        "        # that contains information about the world\n",
        "\n",
        "        return environment\n",
        "\n",
        "    def decide(self, perception):\n",
        "        # The agent makes a decision based on the perception\n",
        "        # For this example, the agent will move left if it perceives an obstacle on the right\n",
        "        # and move right if it perceives an obstacle on the left\n",
        "        if perception.get('obstacle') == 'right':\n",
        "            return 'move_left'\n",
        "        elif perception.get('obstacle') == 'left':\n",
        "            return 'move_right'\n",
        "        else:\n",
        "            return 'stay'\n",
        "\n",
        "    def act(self, decision):\n",
        "        # The agent acts based on the decision\n",
        "        if decision == 'move_left':\n",
        "            self.position -= 1\n",
        "            print(f\"Agent moved left. New position: {self.position}\")\n",
        "        elif decision == 'move_right':\n",
        "            self.position += 1\n",
        "            print(f\"Agent moved right. New position: {self.position}\")\n",
        "        else:\n",
        "            print(f\"Agent stayed. Position: {self.position}\")\n",
        "\n",
        "    def run(self, environment):\n",
        "        # The agent perceives, decides, and acts in a loop\n",
        "        perception = self.perceive(environment)\n",
        "        decision = self.decide(perception)\n",
        "        self.act(decision)\n",
        "\n",
        "# Example usage\n",
        "if __name__ == \"__main__\":\n",
        "    agent = SimpleAIAgent()\n",
        "\n",
        "    # Example environment\n",
        "    environment = {'obstacle': 'right'}\n",
        "\n",
        "    # Run the agent\n",
        "    agent.run(environment)\n",
        "\n",
        "    # Change the environment\n",
        "    environment = {'obstacle': 'left'}\n",
        "    agent.run(environment)\n",
        "\n",
        "    # No obstacle\n",
        "    environment = {}\n",
        "    agent.run(environment)"
      ]
    }
  ]
}
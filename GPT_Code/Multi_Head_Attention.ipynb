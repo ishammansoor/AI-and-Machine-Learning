{
  "nbformat": 4,
  "nbformat_minor": 0,
  "metadata": {
    "colab": {
      "provenance": [],
      "authorship_tag": "ABX9TyOk5yai0CRVo+z0ccePlOZT",
      "include_colab_link": true
    },
    "kernelspec": {
      "name": "python3",
      "display_name": "Python 3"
    },
    "language_info": {
      "name": "python"
    }
  },
  "cells": [
    {
      "cell_type": "markdown",
      "metadata": {
        "id": "view-in-github",
        "colab_type": "text"
      },
      "source": [
        "<a href=\"https://colab.research.google.com/github/ishammansoor/AI-and-Machine-Learning/blob/main/Multi_Head_Attention.ipynb\" target=\"_parent\"><img src=\"https://colab.research.google.com/assets/colab-badge.svg\" alt=\"Open In Colab\"/></a>"
      ]
    },
    {
      "cell_type": "code",
      "execution_count": 1,
      "metadata": {
        "id": "HC9C-hLeyHiz"
      },
      "outputs": [],
      "source": [
        "import torch\n",
        "import torch.nn as nn\n",
        "import torch.nn.functional as F"
      ]
    },
    {
      "cell_type": "code",
      "source": [
        "class SelfAttention(nn.Module):\n",
        "  def __init__(self, embed_dim):\n",
        "    super(SelfAttention, self).__init__()\n",
        "\n",
        "    self.embed_dim = embed_dim\n",
        "\n",
        "    self.query = nn.Linear(embed_dim, embed_dim)\n",
        "    self.key = nn.Linear(embed_dim, embed_dim)\n",
        "    self.value = nn.Linear(embed_dim, embed_dim)\n",
        "\n",
        "    self.out_proj = nn.Linear(embed_dim, embed_dim)\n",
        "\n",
        "  def forward(self, x):\n",
        "    B, T, E = x.size()\n",
        "\n",
        "    # step1: compute the Q, K, V\n",
        "    Q = self.query(x)\n",
        "    K = self.key(x)\n",
        "    V = self.value(x)\n",
        "\n",
        "    # step2: Compute scaled dot product\n",
        "    attn_scores = torch.matmul(Q, K.transpose(-2, -1)) / E ** 0.5\n",
        "    attn_weights = F.softmax(attn_scores, dim=-1)\n",
        "\n",
        "    #step3: Apply weight to values\n",
        "    attn_output = torch.matmul(attn_weights, V)\n",
        "\n",
        "\n",
        "    output = self.out_proj(attn_output)\n",
        "\n",
        "    return output, attn_weights\n",
        "\n",
        "\n"
      ],
      "metadata": {
        "id": "VLYek01szB1w"
      },
      "execution_count": 2,
      "outputs": []
    },
    {
      "cell_type": "code",
      "source": [
        "class MultiHeadAttention(nn.Module):\n",
        "  def __init__(self, embed_dim, num_heads):\n",
        "    super(MultiHeadAttention, self).__init__()\n",
        "\n",
        "    assert embed_dim % num_heads == 0, \"Embedding dim must be divisible by num_heads\"\n",
        "\n",
        "    self.embed_dim = embed_dim\n",
        "    self.num_heads = num_heads\n",
        "    self.head_dim = embed_dim // num_heads\n",
        "\n",
        "    self.heads = nn.ModuleList([\n",
        "        SelfAttention(self.head_dim) for _ in range(self.num_heads)\n",
        "    ])\n",
        "\n",
        "    self.out_proj = nn.Linear(embed_dim, embed_dim)\n",
        "\n",
        "  def forward(self, x):\n",
        "    B, T, E = x.shape\n",
        "    assert E == self.embed_dim\n",
        "\n",
        "    x_split = x.view(B, T, self.num_heads, self.head_dim).transpose(1, 2)  # (B, H, T, D)\n",
        "\n",
        "    head_outputs = []\n",
        "    attn_weights_all = []\n",
        "\n",
        "    for i in range(self.num_heads):\n",
        "        head_input = x_split[:, i, :, :]  # (B, T, head_dim)\n",
        "        out, attn_weights = self.heads[i](head_input)\n",
        "        head_outputs.append(out)\n",
        "        attn_weights_all.append(attn_weights)\n",
        "\n",
        "    concat = torch.cat(head_outputs, dim=-1)  # (B, T, E)\n",
        "    output = self.out_proj(concat)\n",
        "\n",
        "    return output, attn_weights_all\n",
        "\n"
      ],
      "metadata": {
        "id": "qoR-g2fiyNay"
      },
      "execution_count": 7,
      "outputs": []
    },
    {
      "cell_type": "code",
      "source": [
        "x = torch.randn(2, 5, 32)\n",
        "mha = MultiHeadAttention(embed_dim=32, num_heads=4)\n",
        "\n",
        "out, weights = mha(x)\n",
        "print(out.shape)\n",
        "print(weights[0].shape)"
      ],
      "metadata": {
        "colab": {
          "base_uri": "https://localhost:8080/"
        },
        "id": "j24roOlh1MDT",
        "outputId": "59d70144-4674-46d0-f2ee-0d0cba50fd56"
      },
      "execution_count": 8,
      "outputs": [
        {
          "output_type": "stream",
          "name": "stdout",
          "text": [
            "torch.Size([2, 5, 32])\n",
            "4\n",
            "torch.Size([2, 5, 5])\n"
          ]
        }
      ]
    }
  ]
}
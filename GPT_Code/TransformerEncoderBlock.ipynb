{
  "nbformat": 4,
  "nbformat_minor": 0,
  "metadata": {
    "colab": {
      "provenance": [],
      "authorship_tag": "ABX9TyN6QYuKWNYvtEWBs8rR1bEg",
      "include_colab_link": true
    },
    "kernelspec": {
      "name": "python3",
      "display_name": "Python 3"
    },
    "language_info": {
      "name": "python"
    }
  },
  "cells": [
    {
      "cell_type": "markdown",
      "metadata": {
        "id": "view-in-github",
        "colab_type": "text"
      },
      "source": [
        "<a href=\"https://colab.research.google.com/github/ishammansoor/AI-and-Machine-Learning/blob/main/TransformerEncoderBlock.ipynb\" target=\"_parent\"><img src=\"https://colab.research.google.com/assets/colab-badge.svg\" alt=\"Open In Colab\"/></a>"
      ]
    },
    {
      "cell_type": "code",
      "execution_count": 2,
      "metadata": {
        "id": "FeGR4_FXLxlQ"
      },
      "outputs": [],
      "source": [
        "import torch\n",
        "import torch.nn as nn\n",
        "import torch.nn.functional as F"
      ]
    },
    {
      "cell_type": "code",
      "source": [
        "class SelfAttention(nn.Module):\n",
        "  def __init__(self, embed_dim):\n",
        "    super(SelfAttention, self).__init__()\n",
        "\n",
        "    self.embed_dim = embed_dim\n",
        "\n",
        "    self.query = nn.Linear(embed_dim, embed_dim)\n",
        "    self.key = nn.Linear(embed_dim, embed_dim)\n",
        "    self.value = nn.Linear(embed_dim, embed_dim)\n",
        "\n",
        "    self.out_proj = nn.Linear(embed_dim, embed_dim)\n",
        "\n",
        "  def forward(self, x):\n",
        "    B, T, E = x.size()\n",
        "\n",
        "    # step1: compute the Q, K, V\n",
        "    Q = self.query(x)\n",
        "    K = self.key(x)\n",
        "    V = self.value(x)\n",
        "\n",
        "    # step2: Compute scaled dot product\n",
        "    attn_scores = torch.matmul(Q, K.transpose(-2, -1)) / E ** 0.5\n",
        "    attn_weights = F.softmax(attn_scores, dim=-1)\n",
        "\n",
        "    #step3: Apply weight to values\n",
        "    attn_output = torch.matmul(attn_weights, V)\n",
        "\n",
        "\n",
        "    output = self.out_proj(attn_output)\n",
        "\n",
        "    return output, attn_weights\n",
        "\n",
        "\n"
      ],
      "metadata": {
        "id": "QRvBwdFuMWta"
      },
      "execution_count": 3,
      "outputs": []
    },
    {
      "cell_type": "code",
      "source": [
        "class TransformerEncoderBlock(nn.Module):\n",
        "\n",
        "  def __init__(self, embed_dim, ffn_hidden_dim):\n",
        "    super(TransformerEncoderBlock, self).__init__()\n",
        "\n",
        "    self.self_attn = SelfAttention(embed_dim)\n",
        "    self.norm1 = nn.LayerNorm(embed_dim)\n",
        "\n",
        "    self.ffn = nn.Sequential(\n",
        "        nn.Linear(embed_dim, ffn_hidden_dim),\n",
        "        nn.ReLU(),\n",
        "        nn.Linear(ffn_hidden_dim, embed_dim)\n",
        "    )\n",
        "    self.norm2 = nn.LayerNorm(embed_dim)\n",
        "\n",
        "\n",
        "  def forward(self, x):\n",
        "\n",
        "    # self Attention + Residual + Norm\n",
        "\n",
        "    attn_out, attn_weights = self.self_attn(x)\n",
        "    x = self.norm1(x + attn_out)\n",
        "\n",
        "    # Feed Forward + Residual + Norm\n",
        "\n",
        "    ff_out = self.ffn(x)\n",
        "    x = self.norm2(x + ff_out)\n",
        "\n",
        "    return x, attn_weights\n",
        "\n",
        "\n",
        ""
      ],
      "metadata": {
        "id": "ELOVKhraL2mS"
      },
      "execution_count": 4,
      "outputs": []
    },
    {
      "cell_type": "code",
      "source": [
        "batch_size = 2\n",
        "seq_len = 5\n",
        "embed_dim = 16\n",
        "ff_dim = 64\n",
        "\n",
        "x = torch.randn(batch_size, seq_len, embed_dim)\n",
        "encoder_block = TransformerEncoderBlock(embed_dim, ff_dim)\n",
        "\n",
        "out, weights = encoder_block(x)\n",
        "print(\"Output shape:\", out.shape) # (2, 5, 16)"
      ],
      "metadata": {
        "colab": {
          "base_uri": "https://localhost:8080/"
        },
        "id": "s3cLppkdvwo_",
        "outputId": "fab97cba-42ee-44c5-f493-7ccd574e531c"
      },
      "execution_count": 5,
      "outputs": [
        {
          "output_type": "stream",
          "name": "stdout",
          "text": [
            "Output shape: torch.Size([2, 5, 16])\n"
          ]
        }
      ]
    }
  ]
}
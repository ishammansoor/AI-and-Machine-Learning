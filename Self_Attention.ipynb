{
  "nbformat": 4,
  "nbformat_minor": 0,
  "metadata": {
    "colab": {
      "provenance": [],
      "authorship_tag": "ABX9TyO77L8xIlvyGsfG+k86sLax",
      "include_colab_link": true
    },
    "kernelspec": {
      "name": "python3",
      "display_name": "Python 3"
    },
    "language_info": {
      "name": "python"
    }
  },
  "cells": [
    {
      "cell_type": "markdown",
      "metadata": {
        "id": "view-in-github",
        "colab_type": "text"
      },
      "source": [
        "<a href=\"https://colab.research.google.com/github/ishammansoor/AI-and-Machine-Learning/blob/main/Self_Attention.ipynb\" target=\"_parent\"><img src=\"https://colab.research.google.com/assets/colab-badge.svg\" alt=\"Open In Colab\"/></a>"
      ]
    },
    {
      "cell_type": "code",
      "execution_count": 1,
      "metadata": {
        "id": "-CTStKvMF8K8"
      },
      "outputs": [],
      "source": [
        "import torch\n",
        "import torch.nn as nn\n",
        "import torch.nn.functional as F"
      ]
    },
    {
      "cell_type": "code",
      "source": [
        "class SelfAttention(nn.Module):\n",
        "  def __init__(self, embed_dim):\n",
        "    super(SelfAttention, self).__init__()\n",
        "\n",
        "    self.embed_dim = embed_dim\n",
        "\n",
        "    self.query = nn.Linear(embed_dim, embed_dim)\n",
        "    self.key = nn.Linear(embed_dim, embed_dim)\n",
        "    self.value = nn.Linear(embed_dim, embed_dim)\n",
        "\n",
        "    self.out_proj = nn.Linear(embed_dim, embed_dim)\n",
        "\n",
        "  def forward(self, x):\n",
        "    B, T, E = x.size()\n",
        "\n",
        "    # step1: compute the Q, K, V\n",
        "    Q = self.query(x)\n",
        "    K = self.key(x)\n",
        "    V = self.value(x)\n",
        "\n",
        "    # step2: Compute scaled dot product\n",
        "    attn_scores = torch.matmul(Q, K.transpose(-2, -1)) / E ** 0.5\n",
        "    attn_weights = F.softmax(attn_scores, dim=-1)\n",
        "\n",
        "    #step3: Apply weight to values\n",
        "    attn_output = torch.matmul(attn_weights, V)\n",
        "\n",
        "\n",
        "    output = self.out_proj(attn_output)\n",
        "\n",
        "    return output, attn_weights\n",
        "\n",
        "\n"
      ],
      "metadata": {
        "id": "RJ9pxGpiGDE6"
      },
      "execution_count": 2,
      "outputs": []
    },
    {
      "cell_type": "code",
      "source": [
        "batch_size = 2\n",
        "seq_len = 4\n",
        "embed_dim = 8\n",
        "\n",
        "x = torch.randn(batch_size, seq_len, embed_dim)  # random input\n",
        "sa = SelfAttention(embed_dim)\n",
        "\n",
        "out, weights = sa(x)\n",
        "print(\"Output shape:\", out.shape)       # Should be (2, 4, 8)\n",
        "print(\"Attention weights:\", weights) # should be (2, 4, 4)"
      ],
      "metadata": {
        "colab": {
          "base_uri": "https://localhost:8080/"
        },
        "id": "-Btv5gyeJWKs",
        "outputId": "44dee7b7-f27b-467b-c001-22e9dc8fcdaa"
      },
      "execution_count": 5,
      "outputs": [
        {
          "output_type": "stream",
          "name": "stdout",
          "text": [
            "Output shape: torch.Size([2, 4, 8])\n",
            "Attention weights: tensor([[[0.1028, 0.4211, 0.3952, 0.0809],\n",
            "         [0.2004, 0.4169, 0.1727, 0.2100],\n",
            "         [0.0898, 0.3850, 0.3213, 0.2040],\n",
            "         [0.1874, 0.2249, 0.3974, 0.1903]],\n",
            "\n",
            "        [[0.2335, 0.2802, 0.2175, 0.2687],\n",
            "         [0.1214, 0.1278, 0.2812, 0.4695],\n",
            "         [0.2710, 0.2676, 0.2409, 0.2205],\n",
            "         [0.3474, 0.2521, 0.1914, 0.2092]]], grad_fn=<SoftmaxBackward0>)\n"
          ]
        }
      ]
    }
  ]
}